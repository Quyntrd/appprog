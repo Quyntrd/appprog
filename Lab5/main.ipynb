{
 "cells": [
  {
   "cell_type": "code",
   "execution_count": 1,
   "metadata": {},
   "outputs": [],
   "source": [
    "from tracemalloc import stop\n",
    "import torch\n",
    "import torch.nn as nn\n",
    "import torch.nn.functional as F\n",
    "from torch.autograd import Variable\n",
    "import torchvision\n",
    "import numpy as np\n",
    "import pandas as pd\n",
    "import matplotlib.pyplot as plt\n",
    "import re\n",
    "import os\n",
    "import sys\n",
    "from nltk.corpus import stopwords\n",
    "from sklearn.feature_extraction.text import CountVectorizer\n",
    "from sklearn.model_selection import train_test_split\n",
    "sys.path.insert(1, \"D:/AppProgPython/appprog/Lab4\")\n",
    "from df_functions import make_dataframe\n",
    "from preprocess import preprocess_text"
   ]
  },
  {
   "cell_type": "code",
   "execution_count": 22,
   "metadata": {},
   "outputs": [],
   "source": [
    "def change_label(data:pd.DataFrame, rate: int) -> pd.DataFrame:\n",
    "    data.dropna(inplace=True)\n",
    "    labels = lambda x: 1 if x == rate else 0\n",
    "    data['label'] = data['Рейтинг'].apply(labels)\n",
    "    return data"
   ]
  },
  {
   "cell_type": "code",
   "execution_count": 23,
   "metadata": {},
   "outputs": [],
   "source": [
    "def load_data(file_path: str) -> pd.DataFrame:\n",
    "    data = make_dataframe(file_path)\n",
    "    data = preprocess_text(data)\n",
    "    return data"
   ]
  },
  {
   "cell_type": "code",
   "execution_count": 24,
   "metadata": {},
   "outputs": [],
   "source": [
    "def vectorizer(df: pd.DataFrame):\n",
    "    cv = CountVectorizer(max_features=1000, stop_words=stopwords.words('russian'))\n",
    "    sparse_matrix = cv.fit_transform(df[\"Текст отзыва\"]).toarray()\n",
    "    return sparse_matrix"
   ]
  },
  {
   "cell_type": "code",
   "execution_count": 25,
   "metadata": {},
   "outputs": [],
   "source": [
    "def split_data(all_data, df:pd.DataFrame):\n",
    "    text = np.array(df[\"label\"])\n",
    "    x_train, x_test, y_train, y_test = train_test_split(all_data, text)\n",
    "    return x_train, x_test, y_train, y_test\n"
   ]
  },
  {
   "cell_type": "code",
   "execution_count": 26,
   "metadata": {},
   "outputs": [
    {
     "name": "stdout",
     "output_type": "stream",
     "text": [
      "(array([[0, 0, 0, ..., 0, 0, 0],\n",
      "       [0, 0, 0, ..., 0, 0, 0],\n",
      "       [0, 0, 0, ..., 0, 0, 0],\n",
      "       ...,\n",
      "       [0, 0, 0, ..., 0, 0, 0],\n",
      "       [0, 0, 0, ..., 0, 0, 0],\n",
      "       [0, 0, 0, ..., 0, 0, 0]], dtype=int64), array([[0, 0, 0, ..., 0, 0, 0],\n",
      "       [0, 0, 0, ..., 0, 0, 0],\n",
      "       [0, 0, 0, ..., 0, 0, 0],\n",
      "       ...,\n",
      "       [0, 0, 0, ..., 0, 0, 0],\n",
      "       [0, 0, 0, ..., 0, 0, 0],\n",
      "       [0, 1, 1, ..., 0, 0, 0]], dtype=int64), array([0, 0, 0, 0, 1, 0, 1, 0, 0, 1, 0, 1, 0, 0, 1, 0, 0, 0, 1, 0, 0, 0,\n",
      "       0, 0, 0, 0, 0, 1, 0, 0, 0, 0, 0, 0, 0, 0, 0], dtype=int64), array([0, 0, 1, 0, 1, 0, 0, 0, 1, 0, 0, 0, 0], dtype=int64))\n"
     ]
    }
   ],
   "source": [
    "df = load_data('D:/AppProgPython/appprog/csv/final1.csv')\n",
    "changed = change_label(df, 1)\n",
    "vec = vectorizer(changed)\n",
    "print(split_data(vec, changed))"
   ]
  },
  {
   "cell_type": "code",
   "execution_count": 33,
   "metadata": {},
   "outputs": [],
   "source": [
    "class LogisticRegression(nn.Module):\n",
    "    def __init__(self):\n",
    "        super(LogisticRegression, self).__init__()\n",
    "        self.linear1 = nn.Linear(1000, 100)\n",
    "        self.linear2 = nn.Linear(100, 10)\n",
    "        self.linear3 = nn.Linear(10, 2)\n",
    "        \n",
    "    def forward(self, x):\n",
    "        x = F.relu(self.linear1(x))\n",
    "        x = F.relu(self.linear2(x))\n",
    "        x = self.linear3(x)\n",
    "        return x\n",
    "x_train, x_test, y_train, y_test = split_data(vec, changed)\n",
    "model = LogisticRegression()\n",
    "criterion = nn.CrossEntropyLoss()\n",
    "optimizer = torch.optim.Adam(params=model.parameters() , lr=0.01)\n",
    "x_train = Variable(torch.from_numpy(x_train)).float()\n",
    "y_train = Variable(torch.from_numpy(y_train)).long()"
   ]
  },
  {
   "cell_type": "code",
   "execution_count": 28,
   "metadata": {},
   "outputs": [
    {
     "name": "stdout",
     "output_type": "stream",
     "text": [
      "Epoch: 1, Loss: 0.7212693691253662, Accuracy: 21.62162208557129%\n",
      "Epoch: 2, Loss: 0.62000972032547, Accuracy: 91.89189147949219%\n",
      "Epoch: 3, Loss: 0.4523933529853821, Accuracy: 100.0%\n",
      "Epoch: 4, Loss: 0.25985485315322876, Accuracy: 100.0%\n",
      "Epoch: 5, Loss: 0.11852061748504639, Accuracy: 100.0%\n",
      "Epoch: 6, Loss: 0.0481734536588192, Accuracy: 100.0%\n",
      "Epoch: 7, Loss: 0.019367558881640434, Accuracy: 100.0%\n",
      "Epoch: 8, Loss: 0.0084755914285779, Accuracy: 100.0%\n",
      "Epoch: 9, Loss: 0.0036615943536162376, Accuracy: 100.0%\n",
      "Epoch: 10, Loss: 0.0015709168510511518, Accuracy: 100.0%\n",
      "Epoch: 11, Loss: 0.0006491430103778839, Accuracy: 100.0%\n",
      "Epoch: 12, Loss: 0.00025858174194581807, Accuracy: 100.0%\n",
      "Epoch: 13, Loss: 0.00010091059084516019, Accuracy: 100.0%\n",
      "Epoch: 14, Loss: 3.9369060687022284e-05, Accuracy: 100.0%\n",
      "Epoch: 15, Loss: 1.5579786122543737e-05, Accuracy: 100.0%\n",
      "Epoch: 16, Loss: 6.413996743503958e-06, Accuracy: 100.0%\n",
      "Epoch: 17, Loss: 2.7932203465752536e-06, Accuracy: 100.0%\n",
      "Epoch: 18, Loss: 1.2629446928258403e-06, Accuracy: 100.0%\n",
      "Epoch: 19, Loss: 5.928180826231255e-07, Accuracy: 100.0%\n",
      "Epoch: 20, Loss: 2.899670050737768e-07, Accuracy: 100.0%\n"
     ]
    }
   ],
   "source": [
    "epochs = 20\n",
    "model.train()\n",
    "loss_values = []\n",
    "for epoch in range(epochs):\n",
    "    optimizer.zero_grad()\n",
    "    y_pred = model(x_train)\n",
    "    loss = criterion(y_pred, y_train)\n",
    "    loss_values.append(loss.item())\n",
    "    pred = torch.max(y_pred, 1)[1].eq(y_train).sum()\n",
    "    acc = pred * 100.0 / len(x_train)\n",
    "    print('Epoch: {}, Loss: {}, Accuracy: {}%'.format(epoch+1, loss.item(), acc.numpy()))\n",
    "    loss.backward()\n",
    "    optimizer.step()"
   ]
  },
  {
   "cell_type": "code",
   "execution_count": 29,
   "metadata": {},
   "outputs": [
    {
     "data": {
      "image/png": "[encoded data removed]",
      "text/plain": [
       "<Figure size 640x480 with 1 Axes>"
      ]
     },
     "metadata": {},
     "output_type": "display_data"
    }
   ],
   "source": [
    "plt.plot(loss_values)\n",
    "plt.title('Loss Value vs Epochs')\n",
    "plt.xlabel('Epochs')\n",
    "plt.ylabel('Loss')\n",
    "plt.legend(['Loss'])\n",
    "plt.show()"
   ]
  },
  {
   "cell_type": "code",
   "execution_count": 34,
   "metadata": {},
   "outputs": [
    {
     "name": "stdout",
     "output_type": "stream",
     "text": [
      "Accuracy : 92.30769348144531%\n"
     ]
    }
   ],
   "source": [
    "x_test = Variable(torch.from_numpy(x_test)).float()\n",
    "y_test = Variable(torch.from_numpy(y_test)).long()\n",
    "model.eval()\n",
    "with torch.no_grad():\n",
    "    y_pred = model(x_test)\n",
    "    loss = criterion(y_pred, y_test)\n",
    "    pred = torch.max(y_pred, 1)[1].eq(y_test).sum()\n",
    "    print (\"Accuracy : {}%\".format(100*pred/len(x_test)))"
   ]
  }
 ],
 "metadata": {
  "kernelspec": {
   "display_name": "Python 3",
   "language": "python",
   "name": "python3"
  },
  "language_info": {
   "codemirror_mode": {
    "name": "ipython",
    "version": 3
   },
   "file_extension": ".py",
   "mimetype": "text/x-python",
   "name": "python",
   "nbconvert_exporter": "python",
   "pygments_lexer": "ipython3",
   "version": "3.10.0"
  }
 },
 "nbformat": 4,
 "nbformat_minor": 2
}
